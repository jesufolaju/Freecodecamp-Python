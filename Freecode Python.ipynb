{
 "cells": [
  {
   "cell_type": "code",
   "execution_count": 5,
   "metadata": {},
   "outputs": [
    {
     "name": "stdout",
     "output_type": "stream",
     "text": [
      "Before -1\n",
      "9 9\n",
      "41 41\n",
      "41 12\n",
      "41 3\n",
      "74 74\n",
      "74 15\n"
     ]
    }
   ],
   "source": [
    "import numpy \n",
    "import pandas\n",
    "\n",
    "#to find the largest number in a set\n",
    "largest_so_far = -1\n",
    "print('Before', largest_so_far)\n",
    "for the_num in [9, 41, 12, 3, 74, 15]:\n",
    "    if the_num > largest_so_far :\n",
    "        largest_so_far = the_num\n",
    "    print (largest_so_far, the_num)\n",
    "\n"
   ]
  },
  {
   "cell_type": "code",
   "execution_count": 2,
   "metadata": {},
   "outputs": [
    {
     "name": "stdout",
     "output_type": "stream",
     "text": [
      "After 74\n",
      "Before: None\n",
      "Loop: 3 3\n",
      "Loop: 41 3\n",
      "Loop: 12 3\n",
      "Loop: 9 3\n",
      "Loop: 74 3\n",
      "Loop: 15 3\n",
      "Smallest: 3\n"
     ]
    }
   ],
   "source": [
    "print('After', largest_so_far)\n",
    "\n",
    "#to find the smallest number in a set\n",
    "smallest = None\n",
    "print(\"Before:\", smallest)\n",
    "for itervar in [3, 41, 12, 9, 74, 15]:\n",
    "    if smallest is None or itervar < smallest:\n",
    "        smallest = itervar\n",
    "    print(\"Loop:\", itervar, smallest)\n",
    "print(\"Smallest:\", smallest)\n",
    "\n",
    "\n"
   ]
  },
  {
   "cell_type": "code",
   "execution_count": 3,
   "metadata": {},
   "outputs": [
    {
     "name": "stdout",
     "output_type": "stream",
     "text": [
      "Before 0\n",
      "1 9\n",
      "2 41\n",
      "3 12\n",
      "4 3\n",
      "5 74\n",
      "6 15\n",
      "After 6\n"
     ]
    }
   ],
   "source": [
    "#counting in a loop\n",
    "zork = 0\n",
    "print ('Before', zork)\n",
    "for thing in [9, 41, 12, 3, 74, 15]:\n",
    "     zork = zork + 1\n",
    "     print (zork, thing)\n",
    "print ('After', zork)    \n",
    "\n"
   ]
  },
  {
   "cell_type": "code",
   "execution_count": 4,
   "metadata": {},
   "outputs": [
    {
     "name": "stdout",
     "output_type": "stream",
     "text": [
      "Before 0\n",
      "9 9\n",
      "50 41\n",
      "62 12\n",
      "65 3\n",
      "139 74\n",
      "154 15\n",
      "After 154\n"
     ]
    }
   ],
   "source": [
    "#summing in a loop\n",
    "zork = 0\n",
    "print ('Before', zork)\n",
    "for thing in [9, 41, 12, 3, 74, 15]:\n",
    "     zork = zork + thing\n",
    "     print (zork, thing)\n",
    "print ('After', zork)  "
   ]
  },
  {
   "cell_type": "code",
   "execution_count": 10,
   "metadata": {},
   "outputs": [
    {
     "name": "stdout",
     "output_type": "stream",
     "text": [
      "b\n",
      "a\n",
      "n\n",
      "a\n",
      "n\n",
      "a\n"
     ]
    }
   ],
   "source": [
    "for n in \"banana\":\n",
    "    print(n)\n",
    "\n"
   ]
  },
  {
   "cell_type": "code",
   "execution_count": 14,
   "metadata": {},
   "outputs": [
    {
     "name": "stdout",
     "output_type": "stream",
     "text": [
      "3\n"
     ]
    }
   ],
   "source": [
    "word = \"banana\"\n",
    "count = 0\n",
    "for letter in  word:\n",
    "    if letter == 'a':\n",
    "        count = count + 1\n",
    "print (count)"
   ]
  },
  {
   "cell_type": "code",
   "execution_count": 15,
   "metadata": {},
   "outputs": [],
   "source": [
    "word = \"bananana\"\n",
    "i = word.find(\"na\")"
   ]
  },
  {
   "cell_type": "code",
   "execution_count": 16,
   "metadata": {},
   "outputs": [
    {
     "name": "stdout",
     "output_type": "stream",
     "text": [
      "Hello Jane\n"
     ]
    }
   ],
   "source": [
    "#search and replace\n",
    "greet = 'Hello Bob'\n",
    "nstr = greet.replace ('Bob', 'Jane')\n",
    "print(nstr)"
   ]
  },
  {
   "cell_type": "code",
   "execution_count": 20,
   "metadata": {},
   "outputs": [
    {
     "data": {
      "text/plain": [
       "'Hello Bob'"
      ]
     },
     "execution_count": 20,
     "metadata": {},
     "output_type": "execute_result"
    }
   ],
   "source": [
    "#striping whitespace\n",
    "greet = '     Hello Bob    '\n",
    "greet.strip()"
   ]
  },
  {
   "cell_type": "code",
   "execution_count": 22,
   "metadata": {},
   "outputs": [],
   "source": [
    "fhand = open('freecode.py')"
   ]
  },
  {
   "cell_type": "code",
   "execution_count": 23,
   "metadata": {},
   "outputs": [
    {
     "name": "stdout",
     "output_type": "stream",
     "text": [
      "<_io.TextIOWrapper name='freecode.py' mode='r' encoding='cp1252'>\n"
     ]
    }
   ],
   "source": [
    "print (fhand)"
   ]
  },
  {
   "cell_type": "code",
   "execution_count": 26,
   "metadata": {},
   "outputs": [
    {
     "name": "stdout",
     "output_type": "stream",
     "text": [
      "Hello\n",
      "World!\n"
     ]
    }
   ],
   "source": [
    "#newline character\n",
    "stuff = 'Hello\\nWorld!'\n",
    "print(stuff)\n"
   ]
  },
  {
   "cell_type": "code",
   "execution_count": 27,
   "metadata": {},
   "outputs": [
    {
     "name": "stdout",
     "output_type": "stream",
     "text": [
      "Line Count: 45\n"
     ]
    }
   ],
   "source": [
    "#counting lines in a file\n",
    "fhand = open('freecode.py')\n",
    "count = 0\n",
    "for line in fhand:\n",
    "    count = count + 1\n",
    "print ('Line Count:', count)"
   ]
  },
  {
   "cell_type": "code",
   "execution_count": 30,
   "metadata": {},
   "outputs": [
    {
     "name": "stdout",
     "output_type": "stream",
     "text": [
      "for the_num in [9, 41, 12, 3, 74, 15]:\n",
      "\n",
      "for itervar in [3, 41, 12, 9, 74, 15]:\n",
      "\n",
      "for thing in [9, 41, 12, 3, 74, 15]:\n",
      "\n",
      "for thing in [9, 41, 12, 3, 74, 15]:\n",
      "\n"
     ]
    }
   ],
   "source": [
    "#searching through a file\n",
    "fhand = open('freecode.py')\n",
    "for line in fhand:\n",
    "    if line.startswith('for'):\n",
    "        print (line)"
   ]
  },
  {
   "cell_type": "code",
   "execution_count": 34,
   "metadata": {},
   "outputs": [
    {
     "name": "stdout",
     "output_type": "stream",
     "text": [
      "for the_num in [9, 41, 12, 3, 74, 15]:\n",
      "for itervar in [3, 41, 12, 9, 74, 15]:\n",
      "for thing in [9, 41, 12, 3, 74, 15]:\n",
      "for thing in [9, 41, 12, 3, 74, 15]:\n"
     ]
    }
   ],
   "source": [
    "#searching through a file removing the new lines\n",
    "fhand = open('freecode.py')\n",
    "for line in fhand:\n",
    "    line =line.strip()\n",
    "    if line.startswith('for'):\n",
    "        print (line)"
   ]
  },
  {
   "cell_type": "code",
   "execution_count": 36,
   "metadata": {},
   "outputs": [],
   "source": [
    "#searching through a file removing the new lines\n",
    "fhand = open('freecode.py')\n",
    "for line in fhand:\n",
    "    line =line.strip()\n",
    "    if not line.startswith('for'):\n",
    "        continue\n",
    "        print (line)"
   ]
  },
  {
   "cell_type": "code",
   "execution_count": 38,
   "metadata": {},
   "outputs": [],
   "source": [
    "#searching through a file removing the new lines\n",
    "fhand = open('freecode.py')\n",
    "for line in fhand:\n",
    "    line =line.strip()\n",
    "    if not 'for' in line:\n",
    "        continue\n",
    "        print (line)"
   ]
  },
  {
   "cell_type": "markdown",
   "metadata": {},
   "source": [
    "A colection allows us to put many values in a single \"variable\".\n",
    "\n",
    "Algorithm is a set of rule or steps used to solve a problem\n",
    "\n",
    "Data structures is a particular way of organizing data in a computer\n",
    "\n",
    "Lists are mutable while strings are not (i.e we can not change the content of the data\n"
   ]
  },
  {
   "cell_type": "code",
   "execution_count": 40,
   "metadata": {},
   "outputs": [
    {
     "name": "stdout",
     "output_type": "stream",
     "text": [
      "Happy New Year: Josepph\n",
      "Happy New Year: Glenn\n",
      "Happy New Year: Sally\n",
      "Done\n"
     ]
    }
   ],
   "source": [
    "#lists and definite loops\n",
    "friends = ['Josepph', 'Glenn', 'Sally']\n",
    "for friend in friends:\n",
    "    print ('Happy New Year:', friend)\n",
    "print ('Done')"
   ]
  },
  {
   "cell_type": "code",
   "execution_count": 41,
   "metadata": {},
   "outputs": [
    {
     "name": "stdout",
     "output_type": "stream",
     "text": [
      "Happy New Year: Josepph\n",
      "Happy New Year: Glenn\n",
      "Happy New Year: Sally\n",
      "Done\n"
     ]
    }
   ],
   "source": [
    "#lists and definite loops\n",
    "z = ['Josepph', 'Glenn', 'Sally']\n",
    "for s in z:\n",
    "    print ('Happy New Year:', s)\n",
    "print ('Done')"
   ]
  },
  {
   "cell_type": "code",
   "execution_count": 44,
   "metadata": {},
   "outputs": [
    {
     "name": "stdout",
     "output_type": "stream",
     "text": [
      "[2, 14, 22, 41, 63]\n"
     ]
    },
    {
     "data": {
      "text/plain": [
       "[2, 14, 35, 41, 63]"
      ]
     },
     "execution_count": 44,
     "metadata": {},
     "output_type": "execute_result"
    }
   ],
   "source": [
    "#lists are mutable\n",
    "lotto =[2, 14, 22, 41, 63]\n",
    "print (lotto)\n",
    "lotto[2] = 35\n",
    "lotto"
   ]
  },
  {
   "cell_type": "code",
   "execution_count": 45,
   "metadata": {},
   "outputs": [
    {
     "name": "stdout",
     "output_type": "stream",
     "text": [
      "9\n",
      "5\n"
     ]
    }
   ],
   "source": [
    "#the len function takes a list as a parametr and returns the number of elements in the list\n",
    "\n",
    "greet = 'Hello Bob'\n",
    "print (len (greet))\n",
    "\n",
    "lotto =[2, 14, 22, 41, 63]\n",
    "print (len (lotto))\n"
   ]
  },
  {
   "cell_type": "code",
   "execution_count": 51,
   "metadata": {},
   "outputs": [
    {
     "name": "stdout",
     "output_type": "stream",
     "text": [
      "range(0, 4)\n"
     ]
    }
   ],
   "source": [
    "#using range function\n",
    "#range fxn returns a number that range from zero to one less than the parameter\n",
    "\n",
    "print(range(4))"
   ]
  },
  {
   "cell_type": "code",
   "execution_count": 52,
   "metadata": {},
   "outputs": [
    {
     "name": "stdout",
     "output_type": "stream",
     "text": [
      "range(0, 3)\n"
     ]
    }
   ],
   "source": [
    "print (range (len(friends)))"
   ]
  },
  {
   "cell_type": "code",
   "execution_count": 53,
   "metadata": {},
   "outputs": [
    {
     "data": {
      "text/plain": [
       "[1, 2, 5, 3, 5, 7]"
      ]
     },
     "execution_count": 53,
     "metadata": {},
     "output_type": "execute_result"
    }
   ],
   "source": [
    "#conatenaring lists using +\n",
    "a = [1, 2, 5]\n",
    "b = [3, 5, 7]\n",
    "a+b"
   ]
  },
  {
   "cell_type": "code",
   "execution_count": 59,
   "metadata": {},
   "outputs": [
    {
     "name": "stdout",
     "output_type": "stream",
     "text": [
      "['book', '99']\n",
      "['book', '99', 'cookie']\n"
     ]
    }
   ],
   "source": [
    "stuff = list()\n",
    "stuff.append('book')\n",
    "stuff.append('99')\n",
    "print (stuff)\n",
    "\n",
    "stuff.append ('cookie')\n",
    "print (stuff)"
   ]
  },
  {
   "cell_type": "code",
   "execution_count": 60,
   "metadata": {},
   "outputs": [
    {
     "data": {
      "text/plain": [
       "True"
      ]
     },
     "execution_count": 60,
     "metadata": {},
     "output_type": "execute_result"
    }
   ],
   "source": [
    "#checking if an item is in a list\n",
    "some  = [1, 9, 21, 10, 16]\n",
    "9 in some"
   ]
  },
  {
   "cell_type": "code",
   "execution_count": 62,
   "metadata": {},
   "outputs": [
    {
     "name": "stdout",
     "output_type": "stream",
     "text": [
      "['Josepph', 'Glenn', 'Sally']\n"
     ]
    }
   ],
   "source": [
    "#putting a list in order\n",
    "friends = ['Josepph', 'Glenn', 'Sally']\n",
    "friends.sort\n",
    "print (friends)"
   ]
  },
  {
   "cell_type": "code",
   "execution_count": 64,
   "metadata": {},
   "outputs": [
    {
     "name": "stdout",
     "output_type": "stream",
     "text": [
      "6\n",
      "74\n",
      "25.666666666666668\n"
     ]
    }
   ],
   "source": [
    "#built in functions and lists \n",
    "nums = [3, 41, 12, 9, 74, 15]\n",
    "print (len(nums))\n",
    "\n",
    "print (max(nums))\n",
    "\n",
    "print (sum(nums)/len(nums))"
   ]
  },
  {
   "cell_type": "code",
   "execution_count": 67,
   "metadata": {},
   "outputs": [
    {
     "name": "stdout",
     "output_type": "stream",
     "text": [
      "['with', 'three', 'words']\n",
      "with\n",
      "three\n",
      "words\n"
     ]
    }
   ],
   "source": [
    "#stings and lists\n",
    "abc = 'with three words'\n",
    "stuff = abc.split()\n",
    "print (stuff)\n",
    "\n",
    "for w in stuff:\n",
    "    print (w)"
   ]
  },
  {
   "cell_type": "code",
   "execution_count": 73,
   "metadata": {},
   "outputs": [
    {
     "name": "stdout",
     "output_type": "stream",
     "text": [
      "['A', 'lot', 'of', 'spaces']\n",
      "['first;second;third']\n",
      "['first', 'second', 'third']\n"
     ]
    }
   ],
   "source": [
    "#splitting\n",
    "line = 'A lot      of spaces'\n",
    "etc = line.split()\n",
    "print (etc)\n",
    "\n",
    "\n",
    "line = 'first;second;third'\n",
    "thing = line.split()\n",
    "print (thing)\n",
    "\n",
    "line = 'first;second;third'\n",
    "thing = line.split(';')\n",
    "print (thing)\n",
    "\n",
    "#when you do not set a delimiter, multiples spaces are treared like one delimiter\n",
    "#you can specify what delimiter chareacter to use in the splitting"
   ]
  },
  {
   "cell_type": "code",
   "execution_count": 81,
   "metadata": {},
   "outputs": [
    {
     "name": "stdout",
     "output_type": "stream",
     "text": [
      "['from', 'stephen.marquard@uct.ac.za', 'Sat', 'Jan', '5', '09:14:16', '2008']\n",
      "Sat\n",
      "stephen.marquard@uct.ac.za\n",
      "['stephen.marquard', 'uct.ac.za']\n"
     ]
    }
   ],
   "source": [
    "line = 'from stephen.marquard@uct.ac.za Sat Jan 5 09:14:16 2008'\n",
    "words = line.split()\n",
    "print (words)\n",
    "print (words[2])\n",
    "words = line.split()\n",
    "email = words[1]\n",
    "print (email)\n",
    "pieces = email.split('@')\n",
    "print (pieces)"
   ]
  },
  {
   "cell_type": "code",
   "execution_count": null,
   "metadata": {},
   "outputs": [],
   "source": []
  },
  {
   "cell_type": "markdown",
   "metadata": {},
   "source": [
    "PYTHON DICTIONARIES"
   ]
  },
  {
   "cell_type": "markdown",
   "metadata": {},
   "source": [
    "Dicitonaries are python's most powerful data collection\n",
    "\n",
    "Dictionaries alllow us to do fast database like operations in python\n",
    "\n",
    "Dictionaries have different names in different languages\n"
   ]
  },
  {
   "cell_type": "code",
   "execution_count": 88,
   "metadata": {},
   "outputs": [
    {
     "name": "stdout",
     "output_type": "stream",
     "text": [
      "{'money': 12, 'candy': 3, 'tissue': 75}\n",
      "3\n"
     ]
    }
   ],
   "source": [
    "#dictionaries are like bags, no order, so we index the things we put in the dictionary with a lookup tag\n",
    "purse = dict()\n",
    "purse['money'] = 12\n",
    "purse  ['candy'] = 3\n",
    "purse  ['tissue'] = 75\n",
    "\n",
    "print (purse)\n",
    "\n",
    "print (purse['candy'])"
   ]
  },
  {
   "cell_type": "code",
   "execution_count": 93,
   "metadata": {},
   "outputs": [
    {
     "name": "stdout",
     "output_type": "stream",
     "text": [
      "{'csev': 1, 'cwen': 1}\n",
      "{'csev': 1, 'cwen': 2}\n",
      "{'csev': 2, 'cwen': 2, 'zqian': 1}\n"
     ]
    }
   ],
   "source": [
    "#counting within a dictionary\n",
    "ccc = dict ()\n",
    "ccc['csev'] = 1\n",
    "ccc['cwen'] = 1\n",
    "print (ccc)\n",
    "ccc['cwen'] = ccc['cwen'] + 1\n",
    "print (ccc)\n",
    "\n",
    "counts = dict()\n",
    "names = ['csev', 'cwen', 'csev', 'zqian', 'cwen']\n",
    "for name in names:\n",
    "    if name not in counts:\n",
    "        counts [name] = 1\n",
    "    else:\n",
    "        counts [name] = counts[name] + 1\n",
    "print (counts)"
   ]
  },
  {
   "cell_type": "code",
   "execution_count": 100,
   "metadata": {},
   "outputs": [
    {
     "name": "stdout",
     "output_type": "stream",
     "text": [
      "['csev', 'cwen', 'csev', 'zqian', 'cwen']\n"
     ]
    }
   ],
   "source": [
    "# get method for dictionaries\n",
    "if name in counts:\n",
    "    x = counts[name]\n",
    "else:\n",
    "    x = 0\n",
    "    \n",
    "\n",
    "x = counts.get(name, 0)\n",
    "\n",
    "print (names)"
   ]
  },
  {
   "cell_type": "code",
   "execution_count": 101,
   "metadata": {},
   "outputs": [
    {
     "name": "stdout",
     "output_type": "stream",
     "text": [
      "{'csev': 2, 'cwen': 2, 'zqian': 1}\n"
     ]
    }
   ],
   "source": [
    "counts = dict()\n",
    "names = ['csev', 'cwen', 'csev', 'zqian', 'cwen']\n",
    "for name in names:\n",
    "    counts [name] = counts.get(name, 0) + 1\n",
    "print (counts)\n"
   ]
  },
  {
   "cell_type": "code",
   "execution_count": null,
   "metadata": {},
   "outputs": [],
   "source": [
    "#counting pattern\n",
    "\n",
    "counts = dict()\n",
    "line = input('Enter a line of text:')\n",
    "words = line.split()\n",
    "\n",
    "print('Words:', words)\n",
    "print('Counting...')\n",
    "\n",
    "for word in words:\n",
    "    counts[word] = counts.get(word,0) + 1\n",
    "print ('Counts', counts)"
   ]
  },
  {
   "cell_type": "code",
   "execution_count": 16,
   "metadata": {},
   "outputs": [
    {
     "name": "stdout",
     "output_type": "stream",
     "text": [
      "chuck 1\n",
      "fred 42\n",
      "jan 100\n",
      "['chuck', 'fred', 'jan']\n",
      "dict_keys(['chuck', 'fred', 'jan'])\n",
      "dict_values([1, 42, 100])\n",
      "dict_items([('chuck', 1), ('fred', 42), ('jan', 100)])\n",
      "chuck 1\n",
      "fred 42\n",
      "jan 100\n"
     ]
    }
   ],
   "source": [
    "#Definite loops and Dictionaries\n",
    "\n",
    "counts = {'chuck' : 1, 'fred' : 42, 'jan' : 100}\n",
    "for key in counts:\n",
    "    print(key, counts[key])\n",
    "    \n",
    "print (list(counts))\n",
    "print (counts.keys())\n",
    "print(counts.values())\n",
    "print(counts.items())\n",
    "for a,b in counts.items():\n",
    "    print (a,b)\n",
    "\n"
   ]
  },
  {
   "cell_type": "code",
   "execution_count": null,
   "metadata": {},
   "outputs": [],
   "source": []
  },
  {
   "cell_type": "markdown",
   "metadata": {},
   "source": [
    "#### TUPLES\n",
    "\n",
    "Tuples are another kind of sequences that functions much like a list, they have elements which are indexed starting at 0.\n",
    "\n",
    "Tuples are immutable unlike a list, you can not alter its contents\n"
   ]
  },
  {
   "cell_type": "code",
   "execution_count": 20,
   "metadata": {},
   "outputs": [
    {
     "name": "stdout",
     "output_type": "stream",
     "text": [
      "('Glenn', 'Sally', 'Joseph')\n",
      "(1, 9, 2)\n",
      "9\n"
     ]
    }
   ],
   "source": [
    "x = ('Glenn', 'Sally', 'Joseph')\n",
    "\n",
    "y = (1, 9, 2)\n",
    "\n",
    "print (x)\n",
    "print (y)\n",
    "print (max(y))"
   ]
  },
  {
   "cell_type": "markdown",
   "metadata": {},
   "source": [
    "#list\n",
    "l = list()\n",
    "#dir (l)"
   ]
  },
  {
   "cell_type": "code",
   "execution_count": 25,
   "metadata": {},
   "outputs": [],
   "source": [
    "t = tuple()\n",
    "dir(t)"
   ]
  },
  {
   "cell_type": "code",
   "execution_count": 37,
   "metadata": {},
   "outputs": [
    {
     "name": "stdout",
     "output_type": "stream",
     "text": [
      "fred\n",
      "csev 2\n",
      "cwen 4\n",
      "dict_items([('csev', 2), ('cwen', 4)])\n"
     ]
    }
   ],
   "source": [
    "#tuples and assignnents\n",
    "(x,y) = (4, 'fred')\n",
    "print (y) \n",
    "\n",
    "\n",
    "#tuples and dictionaries\n",
    "d = dict()\n",
    "d['csev'] = 2\n",
    "d['cwen'] = 4\n",
    "for [k,v] in d.items():\n",
    "    print(k,v)\n",
    "\n",
    "tups = d.items()\n",
    "print (tups)"
   ]
  },
  {
   "cell_type": "markdown",
   "metadata": {},
   "source": [
    "#### Soritng lists of tuples\n"
   ]
  },
  {
   "cell_type": "code",
   "execution_count": 44,
   "metadata": {},
   "outputs": [
    {
     "name": "stdout",
     "output_type": "stream",
     "text": [
      "dict_items([('a', 10), ('b', 1), ('c', 22)])\n",
      "[('a', 10), ('b', 1), ('c', 22)]\n"
     ]
    }
   ],
   "source": [
    "d = {'a':10, 'b':1, 'c':22}\n",
    "print(d.items())\n",
    "print (sorted (d.items()))\n"
   ]
  },
  {
   "cell_type": "code",
   "execution_count": 47,
   "metadata": {},
   "outputs": [
    {
     "name": "stdout",
     "output_type": "stream",
     "text": [
      "[(10, 'a'), (1, 'b'), (22, 'c')]\n",
      "[(22, 'c'), (10, 'a'), (1, 'b')]\n"
     ]
    }
   ],
   "source": [
    "#sort by values instead of key\n",
    "c = { 'a':10, 'b':1, 'c': 22}\n",
    "tmp = list()\n",
    "for k,v in c.items() :\n",
    "    tmp.append ( (v,k) )\n",
    "print (tmp)\n",
    "\n",
    "tmp = sorted (tmp, reverse =  True)\n",
    "print (tmp)\n"
   ]
  },
  {
   "cell_type": "code",
   "execution_count": 48,
   "metadata": {},
   "outputs": [
    {
     "name": "stdout",
     "output_type": "stream",
     "text": [
      "[(1, 'b'), (10, 'a'), (22, 'c')]\n"
     ]
    }
   ],
   "source": [
    "c = { 'a':10, 'b':1, 'c': 22}\n",
    "print (sorted ([ (v,k) for k,v in c.items ()]))"
   ]
  },
  {
   "cell_type": "markdown",
   "metadata": {},
   "source": [
    "# Regular Expesions"
   ]
  },
  {
   "cell_type": "markdown",
   "metadata": {},
   "source": [
    "Very powerful and quite cryptic \n",
    "\n",
    "Fun once you understand them\n",
    "\n",
    "Regular expressions are a languagw unto themselves\n",
    "\n",
    "A language of \"marker characters\" - programming with characters\n",
    "\n",
    "It is kind of an \"old school\" language - compact"
   ]
  },
  {
   "cell_type": "code",
   "execution_count": 49,
   "metadata": {},
   "outputs": [
    {
     "name": "stdout",
     "output_type": "stream",
     "text": [
      "['csev@umich.edu', 'cwen@iupui.edu']\n"
     ]
    }
   ],
   "source": [
    "import re\n",
    "s = 'A message from csev@umich.edu to cwen@iupui.edu about meeting @2PM'\n",
    "lst = re.findall('\\\\S+@\\\\S+', s)\n",
    "print(lst)"
   ]
  },
  {
   "cell_type": "code",
   "execution_count": 50,
   "metadata": {},
   "outputs": [
    {
     "name": "stdout",
     "output_type": "stream",
     "text": [
      "HTTP/1.1 200 OK\n",
      "Date: Tue, 24 Aug 2021 11:26:28 GMT\n",
      "Server: Apache/2.4.18 (Ubuntu)\n",
      "Last-Modified: Sat, 13 May 2017 11:22:22 GMT\n",
      "ETag: \"a7-54f6609245537\"\n",
      "Accept-Ranges: bytes\n",
      "Content-Length: 167\n",
      "Cache-Control: max-age=0, no-cache, no-store, must-revalidate\n",
      "Pragma: no-cache\n",
      "Expires: Wed, 11 Jan 1984 05:00:00 GMT\n",
      "Connection: close\n",
      "Content-Type: text/plain\n",
      "\n",
      "But soft what light through yonder window breaks\n",
      "It is the east and Juliet is the sun\n",
      "Arise fair sun and kill the envious moon\n",
      "Who is already sick and pale with grief\n"
     ]
    }
   ],
   "source": [
    "import socket\n",
    "\n",
    "mysock = socket.socket(socket.AF_INET, socket.SOCK_STREAM)\n",
    "mysock.connect(('data.pr4e.org', 80))\n",
    "cmd = 'GET http://data.pr4e.org/romeo.txt HTTP/1.0\\r\\n\\r\\n'.encode()\n",
    "mysock.send(cmd)\n",
    "\n",
    "while True:\n",
    "    data = mysock.recv(512)\n",
    "    if len(data) < 1:\n",
    "        break\n",
    "    print(data.decode(),end='')\n",
    "mysock.close()"
   ]
  },
  {
   "cell_type": "code",
   "execution_count": 51,
   "metadata": {},
   "outputs": [
    {
     "name": "stdout",
     "output_type": "stream",
     "text": [
      "Mrugesh\n"
     ]
    }
   ],
   "source": [
    "import json\n",
    "data = '''\n",
    "  [\n",
    "    { \"id\" : \"001\",\n",
    "      \"x\" : \"2\",\n",
    "     \"name\" : \"Quincy\"\n",
    "    } ,\n",
    "    { \"id\" : \"009\",\n",
    "      \"x\" : \"7\",\n",
    "      \"name\" : \"Mrugesh\"\n",
    "    }\n",
    "  ]\n",
    "'''\n",
    "info = json.loads(data)\n",
    "print(info[1]['name'])\n"
   ]
  },
  {
   "cell_type": "code",
   "execution_count": 52,
   "metadata": {},
   "outputs": [
    {
     "name": "stdout",
     "output_type": "stream",
     "text": [
      "2\n",
      "4\n"
     ]
    }
   ],
   "source": [
    "class PartyAnimal:\n",
    "    x = 0\n",
    "    def party(self):\n",
    "        self.x = self.x + 2\n",
    "        print(self.x)\n",
    "\n",
    "an = PartyAnimal()\n",
    "an.party()\n",
    "an.party()"
   ]
  },
  {
   "cell_type": "code",
   "execution_count": 53,
   "metadata": {},
   "outputs": [
    {
     "name": "stdout",
     "output_type": "stream",
     "text": [
      "Quincy constructed\n",
      "Miya constructed\n",
      "Quincy party count 1\n",
      "Miya party count 1\n",
      "Quincy party count 2\n"
     ]
    }
   ],
   "source": [
    "class PartyAnimal:\n",
    "    x = 0\n",
    "    name = ''\n",
    "    def __init__(self, nam):\n",
    "        self.name = nam\n",
    "        print(self.name,'constructed')\n",
    "    def party(self):\n",
    "        self.x = self.x + 1\n",
    "        print(self.name,'party count',self.x)\n",
    "\n",
    "q = PartyAnimal('Quincy')\n",
    "m = PartyAnimal('Miya')\n",
    "\n",
    "q.party()\n",
    "m.party()\n",
    "q.party()"
   ]
  },
  {
   "cell_type": "code",
   "execution_count": null,
   "metadata": {},
   "outputs": [],
   "source": []
  }
 ],
 "metadata": {
  "kernelspec": {
   "display_name": "Python 3",
   "language": "python",
   "name": "python3"
  },
  "language_info": {
   "codemirror_mode": {
    "name": "ipython",
    "version": 3
   },
   "file_extension": ".py",
   "mimetype": "text/x-python",
   "name": "python",
   "nbconvert_exporter": "python",
   "pygments_lexer": "ipython3",
   "version": "3.7.6"
  }
 },
 "nbformat": 4,
 "nbformat_minor": 4
}
